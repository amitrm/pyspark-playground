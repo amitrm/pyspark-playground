{
 "cells": [
  {
   "attachments": {},
   "cell_type": "markdown",
   "metadata": {},
   "source": [
    "### Packages"
   ]
  },
  {
   "attachments": {},
   "cell_type": "markdown",
   "metadata": {},
   "source": [
    "Use `findspark` module to find the PySpark Install.\n",
    "- Run `pip install findspark` to install `findspark`\n",
    "- Import `findspark`, then run `findspark.init()` and `findspark.find()`"
   ]
  },
  {
   "cell_type": "code",
   "execution_count": 66,
   "metadata": {},
   "outputs": [],
   "source": [
    "import findspark\n",
    "findspark.init()\n",
    "from pyspark.sql import SparkSession"
   ]
  },
  {
   "attachments": {},
   "cell_type": "markdown",
   "metadata": {},
   "source": [
    "### Session settings"
   ]
  },
  {
   "cell_type": "code",
   "execution_count": 67,
   "metadata": {},
   "outputs": [],
   "source": [
    "spark = SparkSession.builder.appName('Session-001').getOrCreate()"
   ]
  },
  {
   "attachments": {},
   "cell_type": "markdown",
   "metadata": {},
   "source": [
    "### Create dataframe from CSV"
   ]
  },
  {
   "cell_type": "code",
   "execution_count": 68,
   "metadata": {},
   "outputs": [],
   "source": [
    "ev = spark.read.csv('data/ev-population.csv', header=True, inferSchema=True)"
   ]
  },
  {
   "cell_type": "code",
   "execution_count": 69,
   "metadata": {},
   "outputs": [
    {
     "name": "stdout",
     "output_type": "stream",
     "text": [
      "+----------+---------+-----------------+-----+-----------+----------+---------+-------+---------------------+-------------------------------------------------+--------------+---------+--------------------+--------------+--------------------+--------------------+-----------------+\n",
      "|VIN (1-10)|   County|             City|State|Postal Code|Model Year|     Make|  Model|Electric Vehicle Type|Clean Alternative Fuel Vehicle (CAFV) Eligibility|Electric Range|Base MSRP|Legislative District|DOL Vehicle ID|    Vehicle Location|    Electric Utility|2020 Census Tract|\n",
      "+----------+---------+-----------------+-----+-----------+----------+---------+-------+---------------------+-------------------------------------------------+--------------+---------+--------------------+--------------+--------------------+--------------------+-----------------+\n",
      "|5YJXCAE26J|   Yakima|           Yakima|   WA|      98908|      2018|    TESLA|MODEL X| Battery Electric ...|                             Clean Alternative...|           238|        0|                  14|     141151601|POINT (-120.56916...|          PACIFICORP|      53077001100|\n",
      "|JHMZC5F37M|   Kitsap|          Poulsbo|   WA|      98370|      2021|    HONDA|CLARITY| Plug-in Hybrid El...|                             Clean Alternative...|            47|        0|                  23|     171566447|POINT (-122.64681...|PUGET SOUND ENERG...|      53035090400|\n",
      "|5YJ3E1EB0K|     King|          Seattle|   WA|      98199|      2019|    TESLA|MODEL 3| Battery Electric ...|                             Clean Alternative...|           220|        0|                  36|       9426525|POINT (-122.40092...|CITY OF SEATTLE -...|      53033005803|\n",
      "|1N4AZ0CP5D|     King|          Seattle|   WA|      98119|      2013|   NISSAN|   LEAF| Battery Electric ...|                             Clean Alternative...|            75|        0|                  36|     211807760|POINT (-122.3684 ...|CITY OF SEATTLE -...|      53033005804|\n",
      "|5YJSA1E21H| Thurston|            Lacey|   WA|      98516|      2017|    TESLA|MODEL S| Battery Electric ...|                             Clean Alternative...|           210|        0|                  22|     185810306|POINT (-122.75379...|PUGET SOUND ENERG...|      53067012226|\n",
      "|JHMZC5F1XJ| Thurston|          Olympia|   WA|      98506|      2018|    HONDA|CLARITY| Plug-in Hybrid El...|                             Clean Alternative...|            47|        0|                  22|     153785726|POINT (-122.87741...|PUGET SOUND ENERG...|      53067012211|\n",
      "|3FA6P0PU1G| Thurston|         Tumwater|   WA|      98501|      2016|     FORD| FUSION| Plug-in Hybrid El...|                             Not eligible due ...|            19|        0|                  22|     347508836|POINT (-122.89166...|PUGET SOUND ENERG...|      53067010802|\n",
      "|WA1F2AFY8P| Thurston|            Lacey|   WA|      98516|      2023|     AUDI|   Q5 E| Plug-in Hybrid El...|                             Not eligible due ...|            23|        0|                  22|     227213871|POINT (-122.75379...|PUGET SOUND ENERG...|      53067012225|\n",
      "|1FADP5CU0E| Thurston|        Rochester|   WA|      98579|      2014|     FORD|  C-MAX| Plug-in Hybrid El...|                             Not eligible due ...|            19|        0|                  20|     229811151|POINT (-123.08743...|PUGET SOUND ENERG...|      53067012710|\n",
      "|5YJSA1CP1D|   Kitsap|        Bremerton|   WA|      98312|      2013|    TESLA|MODEL S| Battery Electric ...|                             Clean Alternative...|           208|    69900|                  26|     164768075|POINT (-122.66122...|PUGET SOUND ENERG...|      53035081100|\n",
      "|1N4AZ0CP3F| Thurston|            Lacey|   WA|      98503|      2015|   NISSAN|   LEAF| Battery Electric ...|                             Clean Alternative...|            84|        0|                  22|     193420811|POINT (-122.82324...|PUGET SOUND ENERG...|      53067011628|\n",
      "|7SAYGDEF4N|   Yakima|           Yakima|   WA|      98908|      2022|    TESLA|MODEL Y| Battery Electric ...|                             Eligibility unkno...|             0|        0|                  14|     187486883|POINT (-120.56916...|          PACIFICORP|      53077002804|\n",
      "|5YJ3E1EC7L| Thurston|            Lacey|   WA|      98503|      2020|    TESLA|MODEL 3| Battery Electric ...|                             Clean Alternative...|           308|        0|                  22|       2135486|POINT (-122.82324...|PUGET SOUND ENERG...|      53067011422|\n",
      "|5YJ3E1EB2L| Thurston|          Olympia|   WA|      98516|      2020|    TESLA|MODEL 3| Battery Electric ...|                             Clean Alternative...|           322|        0|                  22|     124645363|POINT (-122.75379...|PUGET SOUND ENERG...|      53067012221|\n",
      "|1FADP5FU4H| Thurston|            Lacey|   WA|      98513|      2017|     FORD|  C-MAX| Plug-in Hybrid El...|                             Not eligible due ...|            20|        0|                  22|     139887513|POINT (-122.81754...|PUGET SOUND ENERG...|      53067011623|\n",
      "|KNDCM3LD8L|   Kitsap|Bainbridge Island|   WA|      98110|      2020|      KIA|   NIRO| Plug-in Hybrid El...|                             Not eligible due ...|            26|        0|                  23|     157737730|POINT (-122.521 4...|PUGET SOUND ENERG...|      53035090902|\n",
      "|1N4AZ0CP0F|   Yakima|           Yakima|   WA|      98902|      2015|   NISSAN|   LEAF| Battery Electric ...|                             Clean Alternative...|            84|        0|                  14|     124092398|POINT (-120.52301...|          PACIFICORP|      53077001000|\n",
      "|5YJSA1S18E| Thurston|          Olympia|   WA|      98502|      2014|    TESLA|MODEL S| Battery Electric ...|                             Clean Alternative...|           208|    69900|                  22|     235148434|POINT (-122.92333...|PUGET SOUND ENERG...|      53067012002|\n",
      "|1G1RC6E46F|Snohomish|          Everett|   WA|      98204|      2015|CHEVROLET|   VOLT| Plug-in Hybrid El...|                             Clean Alternative...|            38|        0|                  21|     224494658|POINT (-122.25527...|PUGET SOUND ENERG...|      53061041905|\n",
      "|1G1FX6S0XH|   Chelan|      Leavenworth|   WA|      98826|      2017|CHEVROLET|BOLT EV| Battery Electric ...|                             Clean Alternative...|           238|        0|                  12|     133848662|POINT (-120.65754...|PUD NO 1 OF CHELA...|      53007960201|\n",
      "+----------+---------+-----------------+-----+-----------+----------+---------+-------+---------------------+-------------------------------------------------+--------------+---------+--------------------+--------------+--------------------+--------------------+-----------------+\n",
      "only showing top 20 rows\n",
      "\n"
     ]
    }
   ],
   "source": [
    "# Show dataframe\n",
    "ev.show()"
   ]
  },
  {
   "attachments": {},
   "cell_type": "markdown",
   "metadata": {},
   "source": [
    "#### Create a subset of dataframe by selecting certain columns"
   ]
  },
  {
   "cell_type": "code",
   "execution_count": 70,
   "metadata": {},
   "outputs": [
    {
     "name": "stdout",
     "output_type": "stream",
     "text": [
      "+---------+-----+----------+---------+---------------------+\n",
      "|   County|State|Model Year|     Make|Electric Vehicle Type|\n",
      "+---------+-----+----------+---------+---------------------+\n",
      "|   Yakima|   WA|      2018|    TESLA| Battery Electric ...|\n",
      "|   Kitsap|   WA|      2021|    HONDA| Plug-in Hybrid El...|\n",
      "|     King|   WA|      2019|    TESLA| Battery Electric ...|\n",
      "|     King|   WA|      2013|   NISSAN| Battery Electric ...|\n",
      "| Thurston|   WA|      2017|    TESLA| Battery Electric ...|\n",
      "| Thurston|   WA|      2018|    HONDA| Plug-in Hybrid El...|\n",
      "| Thurston|   WA|      2016|     FORD| Plug-in Hybrid El...|\n",
      "| Thurston|   WA|      2023|     AUDI| Plug-in Hybrid El...|\n",
      "| Thurston|   WA|      2014|     FORD| Plug-in Hybrid El...|\n",
      "|   Kitsap|   WA|      2013|    TESLA| Battery Electric ...|\n",
      "| Thurston|   WA|      2015|   NISSAN| Battery Electric ...|\n",
      "|   Yakima|   WA|      2022|    TESLA| Battery Electric ...|\n",
      "| Thurston|   WA|      2020|    TESLA| Battery Electric ...|\n",
      "| Thurston|   WA|      2020|    TESLA| Battery Electric ...|\n",
      "| Thurston|   WA|      2017|     FORD| Plug-in Hybrid El...|\n",
      "|   Kitsap|   WA|      2020|      KIA| Plug-in Hybrid El...|\n",
      "|   Yakima|   WA|      2015|   NISSAN| Battery Electric ...|\n",
      "| Thurston|   WA|      2014|    TESLA| Battery Electric ...|\n",
      "|Snohomish|   WA|      2015|CHEVROLET| Plug-in Hybrid El...|\n",
      "|   Chelan|   WA|      2017|CHEVROLET| Battery Electric ...|\n",
      "+---------+-----+----------+---------+---------------------+\n",
      "only showing top 20 rows\n",
      "\n"
     ]
    }
   ],
   "source": [
    "ev_subset = ev.select(['County', 'State', 'Model Year', 'Make', 'Electric Vehicle Type'])\n",
    "\n",
    "ev_subset.show()"
   ]
  },
  {
   "attachments": {},
   "cell_type": "markdown",
   "metadata": {},
   "source": [
    "#### Create new columns"
   ]
  },
  {
   "cell_type": "code",
   "execution_count": 71,
   "metadata": {},
   "outputs": [],
   "source": [
    "# Import SQL functions\n",
    "from pyspark.sql.functions import *"
   ]
  },
  {
   "cell_type": "code",
   "execution_count": 72,
   "metadata": {},
   "outputs": [
    {
     "name": "stdout",
     "output_type": "stream",
     "text": [
      "+--------------------+-----+----------+---------+---------------------+\n",
      "|              County|State|Model Year|     Make|Electric Vehicle Type|\n",
      "+--------------------+-----+----------+---------+---------------------+\n",
      "|   Yakima County, WA|   WA|      2018|    TESLA| Battery Electric ...|\n",
      "|   Kitsap County, WA|   WA|      2021|    HONDA| Plug-in Hybrid El...|\n",
      "|     King County, WA|   WA|      2019|    TESLA| Battery Electric ...|\n",
      "|     King County, WA|   WA|      2013|   NISSAN| Battery Electric ...|\n",
      "| Thurston County, WA|   WA|      2017|    TESLA| Battery Electric ...|\n",
      "| Thurston County, WA|   WA|      2018|    HONDA| Plug-in Hybrid El...|\n",
      "| Thurston County, WA|   WA|      2016|     FORD| Plug-in Hybrid El...|\n",
      "| Thurston County, WA|   WA|      2023|     AUDI| Plug-in Hybrid El...|\n",
      "| Thurston County, WA|   WA|      2014|     FORD| Plug-in Hybrid El...|\n",
      "|   Kitsap County, WA|   WA|      2013|    TESLA| Battery Electric ...|\n",
      "| Thurston County, WA|   WA|      2015|   NISSAN| Battery Electric ...|\n",
      "|   Yakima County, WA|   WA|      2022|    TESLA| Battery Electric ...|\n",
      "| Thurston County, WA|   WA|      2020|    TESLA| Battery Electric ...|\n",
      "| Thurston County, WA|   WA|      2020|    TESLA| Battery Electric ...|\n",
      "| Thurston County, WA|   WA|      2017|     FORD| Plug-in Hybrid El...|\n",
      "|   Kitsap County, WA|   WA|      2020|      KIA| Plug-in Hybrid El...|\n",
      "|   Yakima County, WA|   WA|      2015|   NISSAN| Battery Electric ...|\n",
      "| Thurston County, WA|   WA|      2014|    TESLA| Battery Electric ...|\n",
      "|Snohomish County, WA|   WA|      2015|CHEVROLET| Plug-in Hybrid El...|\n",
      "|   Chelan County, WA|   WA|      2017|CHEVROLET| Battery Electric ...|\n",
      "+--------------------+-----+----------+---------+---------------------+\n",
      "only showing top 20 rows\n",
      "\n"
     ]
    }
   ],
   "source": [
    "ev_subset = ev_subset.withColumns({\n",
    "    'County': concat(ev_subset.County, lit(' County, '), ev_subset.State)\n",
    "})\n",
    "\n",
    "ev_subset.show()"
   ]
  },
  {
   "attachments": {},
   "cell_type": "markdown",
   "metadata": {},
   "source": [
    "#### Rename columns"
   ]
  },
  {
   "cell_type": "code",
   "execution_count": 73,
   "metadata": {},
   "outputs": [
    {
     "name": "stdout",
     "output_type": "stream",
     "text": [
      "+--------------------+-----+----------+---------+--------------------+\n",
      "|              County|State|Model Year|     Make|             EV Type|\n",
      "+--------------------+-----+----------+---------+--------------------+\n",
      "|   Yakima County, WA|   WA|      2018|    TESLA|Battery Electric ...|\n",
      "|   Kitsap County, WA|   WA|      2021|    HONDA|Plug-in Hybrid El...|\n",
      "|     King County, WA|   WA|      2019|    TESLA|Battery Electric ...|\n",
      "|     King County, WA|   WA|      2013|   NISSAN|Battery Electric ...|\n",
      "| Thurston County, WA|   WA|      2017|    TESLA|Battery Electric ...|\n",
      "| Thurston County, WA|   WA|      2018|    HONDA|Plug-in Hybrid El...|\n",
      "| Thurston County, WA|   WA|      2016|     FORD|Plug-in Hybrid El...|\n",
      "| Thurston County, WA|   WA|      2023|     AUDI|Plug-in Hybrid El...|\n",
      "| Thurston County, WA|   WA|      2014|     FORD|Plug-in Hybrid El...|\n",
      "|   Kitsap County, WA|   WA|      2013|    TESLA|Battery Electric ...|\n",
      "| Thurston County, WA|   WA|      2015|   NISSAN|Battery Electric ...|\n",
      "|   Yakima County, WA|   WA|      2022|    TESLA|Battery Electric ...|\n",
      "| Thurston County, WA|   WA|      2020|    TESLA|Battery Electric ...|\n",
      "| Thurston County, WA|   WA|      2020|    TESLA|Battery Electric ...|\n",
      "| Thurston County, WA|   WA|      2017|     FORD|Plug-in Hybrid El...|\n",
      "|   Kitsap County, WA|   WA|      2020|      KIA|Plug-in Hybrid El...|\n",
      "|   Yakima County, WA|   WA|      2015|   NISSAN|Battery Electric ...|\n",
      "| Thurston County, WA|   WA|      2014|    TESLA|Battery Electric ...|\n",
      "|Snohomish County, WA|   WA|      2015|CHEVROLET|Plug-in Hybrid El...|\n",
      "|   Chelan County, WA|   WA|      2017|CHEVROLET|Battery Electric ...|\n",
      "+--------------------+-----+----------+---------+--------------------+\n",
      "only showing top 20 rows\n",
      "\n"
     ]
    }
   ],
   "source": [
    "ev_subset = ev_subset.withColumnsRenamed({\n",
    "    'Electric Vehicle Type': 'EV Type',\n",
    "})\n",
    "\n",
    "ev_subset.show()"
   ]
  },
  {
   "attachments": {},
   "cell_type": "markdown",
   "metadata": {},
   "source": [
    "#### Delete columns"
   ]
  },
  {
   "cell_type": "code",
   "execution_count": 74,
   "metadata": {},
   "outputs": [
    {
     "name": "stdout",
     "output_type": "stream",
     "text": [
      "+--------------------+----------+---------+\n",
      "|              County|Model Year|     Make|\n",
      "+--------------------+----------+---------+\n",
      "|   Yakima County, WA|      2018|    TESLA|\n",
      "|   Kitsap County, WA|      2021|    HONDA|\n",
      "|     King County, WA|      2019|    TESLA|\n",
      "|     King County, WA|      2013|   NISSAN|\n",
      "| Thurston County, WA|      2017|    TESLA|\n",
      "| Thurston County, WA|      2018|    HONDA|\n",
      "| Thurston County, WA|      2016|     FORD|\n",
      "| Thurston County, WA|      2023|     AUDI|\n",
      "| Thurston County, WA|      2014|     FORD|\n",
      "|   Kitsap County, WA|      2013|    TESLA|\n",
      "| Thurston County, WA|      2015|   NISSAN|\n",
      "|   Yakima County, WA|      2022|    TESLA|\n",
      "| Thurston County, WA|      2020|    TESLA|\n",
      "| Thurston County, WA|      2020|    TESLA|\n",
      "| Thurston County, WA|      2017|     FORD|\n",
      "|   Kitsap County, WA|      2020|      KIA|\n",
      "|   Yakima County, WA|      2015|   NISSAN|\n",
      "| Thurston County, WA|      2014|    TESLA|\n",
      "|Snohomish County, WA|      2015|CHEVROLET|\n",
      "|   Chelan County, WA|      2017|CHEVROLET|\n",
      "+--------------------+----------+---------+\n",
      "only showing top 20 rows\n",
      "\n"
     ]
    }
   ],
   "source": [
    "columns_to_drop = ['EV Type', 'State']\n",
    "ev_subset = ev_subset.drop(*columns_to_drop)\n",
    "\n",
    "ev_subset.show()"
   ]
  },
  {
   "cell_type": "code",
   "execution_count": null,
   "metadata": {},
   "outputs": [],
   "source": []
  }
 ],
 "metadata": {
  "kernelspec": {
   "display_name": "Python 3",
   "language": "python",
   "name": "python3"
  },
  "language_info": {
   "codemirror_mode": {
    "name": "ipython",
    "version": 3
   },
   "file_extension": ".py",
   "mimetype": "text/x-python",
   "name": "python",
   "nbconvert_exporter": "python",
   "pygments_lexer": "ipython3",
   "version": "3.11.3"
  },
  "orig_nbformat": 4
 },
 "nbformat": 4,
 "nbformat_minor": 2
}
